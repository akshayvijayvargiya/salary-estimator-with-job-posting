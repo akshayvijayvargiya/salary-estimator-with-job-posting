{
 "cells": [
  {
   "cell_type": "markdown",
   "id": "0ef30723",
   "metadata": {},
   "source": [
    "#  Predicting Salaries"
   ]
  },
  {
   "cell_type": "markdown",
   "id": "654b8dac",
   "metadata": {},
   "source": [
    "We collected salary information on data science jobs in a variety of markets. Then using the location, title, and summary of the job we attempted to predict the salary of the job. For job posting sites, this would be extraordinarily useful. While most listings do not come with salary information, being to able extrapolate or predict the expected salaries from other listings can useful.\n",
    "\n",
    "Normally, regression could be used for a task like this; however, since there is a fair amount of natural variance in job salaries, we approached this as a classification problem and used classifiers.\n",
    "\n",
    "Therefore, the first part of the project was focused on scraping Indeed.com. The latter part of the project was focused on building models using job postings with salary information to predict salaries."
   ]
  },
  {
   "cell_type": "markdown",
   "id": "cb15dd89",
   "metadata": {},
   "source": [
    "## Scraping job listings from Indeed.com"
   ]
  },
  {
   "cell_type": "markdown",
   "id": "15ea491c",
   "metadata": {},
   "source": [
    "we need to clean up salary data. \n",
    "\n",
    "1. Only a small number of the scraped results have salary information - only these will be used for modeling.\n",
    "1. Some of the salaries are not yearly but hourly or weekly, these will not be useful to us for now\n",
    "1. Some of the entries may be duplicated\n",
    "1. The salaries are given as text and usually with ranges."
   ]
  },
  {
   "cell_type": "code",
   "execution_count": 1,
   "id": "8e52c71a",
   "metadata": {},
   "outputs": [],
   "source": [
    "import pandas as pd\n",
    "import numpy as np\n",
    "import warnings\n",
    "\n",
    "# Filter out all warnings\n",
    "warnings.filterwarnings(\"ignore\")"
   ]
  },
  {
   "cell_type": "code",
   "execution_count": 2,
   "id": "f50ffa8c",
   "metadata": {},
   "outputs": [],
   "source": [
    "from sklearn.metrics import accuracy_score, confusion_matrix, precision_score, recall_score\n",
    "\n",
    "def evaluate_classification_model(y_true, y_pred, name):\n",
    "    # Calculate accuracy\n",
    "    accuracy = accuracy_score(y_true, y_pred)\n",
    "    \n",
    "    # Calculate confusion matrix\n",
    "    confusion = confusion_matrix(y_true, y_pred)\n",
    "    \n",
    "    # Calculate precision\n",
    "    precision = precision_score(y_test, y_pred, \n",
    "                                           pos_label='positive',\n",
    "                                           average='micro')\n",
    "    \n",
    "    # Calculate recall\n",
    "    recall = recall_score(y_test, y_pred, pos_label='positive',\n",
    "                                           average='micro')\n",
    "    print(\"Model Name:\", name)\n",
    "    print(\"Accuracy:\", accuracy)\n",
    "    print(\"Confusion Matrix:\")\n",
    "    print(confusion)\n",
    "    print(\"Precision:\", precision)\n",
    "    print(\"Recall:\", recall)"
   ]
  },
  {
   "cell_type": "code",
   "execution_count": null,
   "id": "ef5ae643",
   "metadata": {},
   "outputs": [],
   "source": []
  }
 ],
 "metadata": {
  "kernelspec": {
   "display_name": "Python 3 (ipykernel)",
   "language": "python",
   "name": "python3"
  },
  "language_info": {
   "codemirror_mode": {
    "name": "ipython",
    "version": 3
   },
   "file_extension": ".py",
   "mimetype": "text/x-python",
   "name": "python",
   "nbconvert_exporter": "python",
   "pygments_lexer": "ipython3",
   "version": "3.11.4"
  }
 },
 "nbformat": 4,
 "nbformat_minor": 5
}
